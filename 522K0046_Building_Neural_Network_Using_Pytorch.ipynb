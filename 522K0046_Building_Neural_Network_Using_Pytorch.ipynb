{
  "nbformat": 4,
  "nbformat_minor": 0,
  "metadata": {
    "colab": {
      "provenance": []
    },
    "kernelspec": {
      "name": "python3",
      "display_name": "Python 3"
    },
    "language_info": {
      "name": "python"
    }
  },
  "cells": [
    {
      "cell_type": "markdown",
      "source": [
        "**Building a Neural Network Model using PyTorch:**"
      ],
      "metadata": {
        "id": "lWxfnW7ip7no"
      }
    },
    {
      "cell_type": "code",
      "source": [
        "# Load data\n",
        "import pandas as pd\n",
        "df = pd.read_csv('diabetes.csv')\n",
        "X = df.drop('Outcome', axis=1)\n",
        "y = df['Outcome']"
      ],
      "metadata": {
        "id": "C0OVQUjCqENV"
      },
      "execution_count": 7,
      "outputs": []
    },
    {
      "cell_type": "code",
      "source": [
        "import torch\n",
        "import torch.nn as nn\n",
        "import torch.optim as optim\n",
        "from torch.utils.data import DataLoader, TensorDataset\n",
        "from sklearn.model_selection import train_test_split\n",
        "from sklearn.preprocessing import StandardScaler"
      ],
      "metadata": {
        "id": "NtSdSIi8p-87"
      },
      "execution_count": 3,
      "outputs": []
    },
    {
      "cell_type": "code",
      "source": [
        "# Scale data\n",
        "scaler = StandardScaler()\n",
        "X = scaler.fit_transform(X)"
      ],
      "metadata": {
        "id": "yD2Tp3_zqcSR"
      },
      "execution_count": 8,
      "outputs": []
    },
    {
      "cell_type": "code",
      "source": [
        "# Split data\n",
        "X_train, X_test, y_train, y_test = train_test_split(X, y, test_size=0.2, random_state=42)"
      ],
      "metadata": {
        "id": "dcr6msNGqozB"
      },
      "execution_count": 9,
      "outputs": []
    },
    {
      "cell_type": "code",
      "source": [
        "# Convert data to PyTorch tensors\n",
        "X_train_tensor = torch.tensor(X_train, dtype=torch.float32)\n",
        "X_test_tensor = torch.tensor(X_test, dtype=torch.float32)\n",
        "y_train_tensor = torch.tensor(y_train.values, dtype=torch.float32)\n",
        "y_test_tensor = torch.tensor(y_test.values, dtype=torch.float32)"
      ],
      "metadata": {
        "id": "vbJeGAJlqu32"
      },
      "execution_count": 10,
      "outputs": []
    },
    {
      "cell_type": "code",
      "source": [
        "# Create data loaders\n",
        "train_data = TensorDataset(X_train_tensor, y_train_tensor)\n",
        "test_data = TensorDataset(X_test_tensor, y_test_tensor)\n",
        "train_loader = DataLoader(train_data, batch_size=64, shuffle=True)\n",
        "test_loader = DataLoader(test_data, batch_size=64)\n"
      ],
      "metadata": {
        "id": "aGAJn_5ErvCr"
      },
      "execution_count": 11,
      "outputs": []
    },
    {
      "cell_type": "code",
      "source": [
        "# Define the neural network architecture\n",
        "class DiabetesClassifier(nn.Module):\n",
        "    def __init__(self, input_size):\n",
        "        super(DiabetesClassifier, self).__init__()\n",
        "        self.fc1 = nn.Linear(input_size, 64)\n",
        "        self.fc2 = nn.Linear(64, 32)\n",
        "        self.fc3 = nn.Linear(32, 1)\n",
        "        self.dropout = nn.Dropout(0.5)\n",
        "\n",
        "    def forward(self, x):\n",
        "        x = torch.relu(self.fc1(x))\n",
        "        x = torch.relu(self.fc2(x))\n",
        "        x = self.dropout(x)\n",
        "        x = torch.sigmoid(self.fc3(x))\n",
        "        return x\n"
      ],
      "metadata": {
        "id": "QqqRLLDdrzc6"
      },
      "execution_count": 12,
      "outputs": []
    },
    {
      "cell_type": "code",
      "source": [
        "# Instantiate the model\n",
        "input_size = X_train.shape[1]\n",
        "model = DiabetesClassifier(input_size)\n",
        "\n",
        "# Define loss function and optimizer\n",
        "criterion = nn.BCELoss()\n",
        "optimizer = optim.Adam(model.parameters(), lr=0.001)"
      ],
      "metadata": {
        "id": "uxMCb0NvsJFL"
      },
      "execution_count": 13,
      "outputs": []
    },
    {
      "cell_type": "code",
      "source": [
        "# Train the model\n",
        "num_epochs = 20\n",
        "for epoch in range(num_epochs):\n",
        "    model.train()\n",
        "    for inputs, labels in train_loader:\n",
        "        optimizer.zero_grad()\n",
        "        outputs = model(inputs)\n",
        "        loss = criterion(outputs, labels.view(-1, 1))\n",
        "        loss.backward()\n",
        "        optimizer.step()\n",
        "\n",
        "    # Validation\n",
        "    model.eval()\n",
        "    with torch.no_grad():\n",
        "        test_loss = 0.0\n",
        "        for inputs, labels in test_loader:\n",
        "            outputs = model(inputs)\n",
        "            test_loss += criterion(outputs, labels.view(-1, 1)).item()\n",
        "\n",
        "    print(f\"Epoch [{epoch+1}/{num_epochs}], Test Loss: {test_loss / len(test_loader):.4f}\")"
      ],
      "metadata": {
        "colab": {
          "base_uri": "https://localhost:8080/"
        },
        "id": "Ms5ysABNsNpx",
        "outputId": "df053dc0-3e23-4db3-adc6-05e72724f887"
      },
      "execution_count": 22,
      "outputs": [
        {
          "output_type": "stream",
          "name": "stdout",
          "text": [
            "Epoch [1/20], Test Loss: 0.5967\n",
            "Epoch [2/20], Test Loss: 0.5920\n",
            "Epoch [3/20], Test Loss: 0.5923\n",
            "Epoch [4/20], Test Loss: 0.5946\n",
            "Epoch [5/20], Test Loss: 0.5993\n",
            "Epoch [6/20], Test Loss: 0.5991\n",
            "Epoch [7/20], Test Loss: 0.6006\n",
            "Epoch [8/20], Test Loss: 0.6048\n",
            "Epoch [9/20], Test Loss: 0.6023\n",
            "Epoch [10/20], Test Loss: 0.6006\n",
            "Epoch [11/20], Test Loss: 0.6069\n",
            "Epoch [12/20], Test Loss: 0.6020\n",
            "Epoch [13/20], Test Loss: 0.5985\n",
            "Epoch [14/20], Test Loss: 0.6055\n",
            "Epoch [15/20], Test Loss: 0.6076\n",
            "Epoch [16/20], Test Loss: 0.6046\n",
            "Epoch [17/20], Test Loss: 0.6053\n",
            "Epoch [18/20], Test Loss: 0.6046\n",
            "Epoch [19/20], Test Loss: 0.5933\n",
            "Epoch [20/20], Test Loss: 0.6010\n"
          ]
        }
      ]
    },
    {
      "cell_type": "markdown",
      "source": [
        "**Solving Overfitting using Dropout:**"
      ],
      "metadata": {
        "id": "fFiymfbRso3Z"
      }
    },
    {
      "cell_type": "code",
      "source": [
        "class DiabetesClassifierWithDropout(nn.Module):\n",
        "    def __init__(self, input_size):\n",
        "        super(DiabetesClassifierWithDropout, self).__init__()\n",
        "        self.fc1 = nn.Linear(input_size, 64)\n",
        "        self.fc2 = nn.Linear(64, 32)\n",
        "        self.fc3 = nn.Linear(32, 1)\n",
        "        self.dropout = nn.Dropout(0.5)\n",
        "\n",
        "    def forward(self, x):\n",
        "        x = torch.relu(self.fc1(x))\n",
        "        x = self.dropout(x)\n",
        "        x = torch.relu(self.fc2(x))\n",
        "        x = self.dropout(x)\n",
        "        x = torch.sigmoid(self.fc3(x))\n",
        "        return x\n",
        "\n",
        "# Instantiate the model with dropout\n",
        "model_with_dropout = DiabetesClassifierWithDropout(input_size)\n",
        "\n",
        "# Define loss function and optimizer\n",
        "criterion = nn.BCELoss()\n",
        "optimizer = optim.Adam(model_with_dropout.parameters(), lr=0.001)\n",
        "\n",
        "train_losses_with_dropout = []\n",
        "test_losses_with_dropout = []\n",
        "for epoch in range(num_epochs):\n",
        "    model_with_dropout.train()\n",
        "    train_loss = 0.0\n",
        "    for inputs, labels in train_loader:\n",
        "        optimizer.zero_grad()\n",
        "        outputs = model_with_dropout(inputs)\n",
        "        loss = criterion(outputs, labels.view(-1, 1))\n",
        "        loss.backward()\n",
        "        optimizer.step()\n",
        "        train_loss += loss.item() * inputs.size(0)\n",
        "\n",
        "    train_loss /= len(train_loader.dataset)\n",
        "    train_losses_with_dropout.append(train_loss)\n",
        "\n",
        "    # Validation\n",
        "    model_with_dropout.eval()\n",
        "    with torch.no_grad():\n",
        "        test_loss = 0.0\n",
        "        for inputs, labels in test_loader:\n",
        "            outputs = model_with_dropout(inputs)\n",
        "            loss = criterion(outputs, labels.view(-1, 1))\n",
        "            test_loss += loss.item() * inputs.size(0)\n",
        "\n",
        "    test_loss /= len(test_loader.dataset)\n",
        "    test_losses_with_dropout.append(test_loss)\n",
        "\n",
        "    print(f\"Epoch [{epoch+1}/{num_epochs}], Test Loss (with dropout): {test_loss:.4f}\")\n",
        "\n"
      ],
      "metadata": {
        "colab": {
          "base_uri": "https://localhost:8080/"
        },
        "id": "OASy__DesR3A",
        "outputId": "c09535f4-8838-4d69-8a1e-cda9337890db"
      },
      "execution_count": 26,
      "outputs": [
        {
          "output_type": "stream",
          "name": "stdout",
          "text": [
            "Epoch [1/20], Test Loss (with dropout): 0.6606\n",
            "Epoch [2/20], Test Loss (with dropout): 0.6431\n",
            "Epoch [3/20], Test Loss (with dropout): 0.6249\n",
            "Epoch [4/20], Test Loss (with dropout): 0.6063\n",
            "Epoch [5/20], Test Loss (with dropout): 0.5869\n",
            "Epoch [6/20], Test Loss (with dropout): 0.5672\n",
            "Epoch [7/20], Test Loss (with dropout): 0.5502\n",
            "Epoch [8/20], Test Loss (with dropout): 0.5362\n",
            "Epoch [9/20], Test Loss (with dropout): 0.5251\n",
            "Epoch [10/20], Test Loss (with dropout): 0.5165\n",
            "Epoch [11/20], Test Loss (with dropout): 0.5118\n",
            "Epoch [12/20], Test Loss (with dropout): 0.5088\n",
            "Epoch [13/20], Test Loss (with dropout): 0.5074\n",
            "Epoch [14/20], Test Loss (with dropout): 0.5066\n",
            "Epoch [15/20], Test Loss (with dropout): 0.5068\n",
            "Epoch [16/20], Test Loss (with dropout): 0.5065\n",
            "Epoch [17/20], Test Loss (with dropout): 0.5061\n",
            "Epoch [18/20], Test Loss (with dropout): 0.5055\n",
            "Epoch [19/20], Test Loss (with dropout): 0.5059\n",
            "Epoch [20/20], Test Loss (with dropout): 0.5060\n"
          ]
        }
      ]
    },
    {
      "cell_type": "markdown",
      "source": [
        "**Trying Different Optimizer:**"
      ],
      "metadata": {
        "id": "-H3BagR3s7zY"
      }
    },
    {
      "cell_type": "code",
      "source": [
        "# Define different optimizers\n",
        "optimizers = {\n",
        "    'SGD': optim.SGD(model.parameters(), lr=0.01),\n",
        "    'Adam': optim.Adam(model.parameters(), lr=0.001),\n",
        "    'RMSprop': optim.RMSprop(model.parameters(), lr=0.001),\n",
        "}\n"
      ],
      "metadata": {
        "id": "nZbwWWpHs0ML"
      },
      "execution_count": null,
      "outputs": []
    },
    {
      "cell_type": "code",
      "source": [
        "# Train the model with different optimizers\n",
        "for optimizer_name, optimizer in optimizers.items():\n",
        "    print(f\"Training with {optimizer_name} optimizer:\")\n",
        "    for epoch in range(num_epochs):\n",
        "        model.train()\n",
        "        for inputs, labels in train_loader:\n",
        "            optimizer.zero_grad()\n",
        "            outputs = model(inputs)\n",
        "            loss = criterion(outputs, labels.view(-1, 1))\n",
        "            loss.backward()\n",
        "            optimizer.step()\n",
        "\n",
        "        # Validation\n",
        "        model.eval()\n",
        "        with torch.no_grad():\n",
        "            test_loss = 0.0\n",
        "            for inputs, labels in test_loader:\n",
        "                outputs = model(inputs)\n",
        "                test_loss += criterion(outputs, labels.view(-1, 1)).item()\n",
        "\n",
        "        print(f\"Epoch [{epoch+1}/{num_epochs}], Test Loss: {test_loss / len(test_loader):.4f}\")\n",
        "    print()\n"
      ],
      "metadata": {
        "id": "7aOl4r3qtZsc"
      },
      "execution_count": null,
      "outputs": []
    },
    {
      "cell_type": "code",
      "source": [
        "import matplotlib.pyplot as plt\n",
        "\n",
        "# Plot the loss curves for the model with dropout\n",
        "plt.figure(figsize=(10, 5))\n",
        "plt.plot(train_losses_with_dropout, label='Train Loss (With Dropout)')\n",
        "plt.plot(test_losses_with_dropout, label='Test Loss (With Dropout)')\n",
        "plt.xlabel('Epoch')\n",
        "plt.ylabel('Loss')\n",
        "plt.title('Loss Curves with Dropout')\n",
        "plt.legend()\n",
        "plt.show()"
      ],
      "metadata": {
        "colab": {
          "base_uri": "https://localhost:8080/",
          "height": 487
        },
        "id": "yGZA-YgTwofP",
        "outputId": "6e57a55f-f5ac-43da-ed2e-e45057494f20"
      },
      "execution_count": 27,
      "outputs": [
        {
          "output_type": "display_data",
          "data": {
            "text/plain": [
              "<Figure size 1000x500 with 1 Axes>"
            ],
            "image/png": "[encoded data removed]"
          },
          "metadata": {}
        }
      ]
    }
  ]
}